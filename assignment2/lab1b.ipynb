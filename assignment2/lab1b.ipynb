{
 "cells": [
  {
   "cell_type": "markdown",
   "id": "885485d1",
   "metadata": {},
   "source": [
    "# Lab 1b"
   ]
  },
  {
   "cell_type": "markdown",
   "id": "0c7dfe43",
   "metadata": {},
   "source": [
    "### Define data"
   ]
  },
  {
   "cell_type": "code",
   "execution_count": null,
   "id": "d027e4d5",
   "metadata": {},
   "outputs": [],
   "source": []
  }
 ],
 "metadata": {
  "language_info": {
   "name": "python"
  }
 },
 "nbformat": 4,
 "nbformat_minor": 5
}
