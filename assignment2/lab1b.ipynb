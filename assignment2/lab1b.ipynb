{
 "cells": [
  {
   "cell_type": "markdown",
   "id": "885485d1",
   "metadata": {},
   "source": [
    "# **_Lab 1b_**"
   ]
  },
  {
   "cell_type": "markdown",
   "id": "869b2510",
   "metadata": {},
   "source": [
    "### Imports"
   ]
  },
  {
   "cell_type": "code",
   "execution_count": 1,
   "id": "4a53dd7d",
   "metadata": {},
   "outputs": [],
   "source": [
    "import numpy as np\n",
    "import matplotlib.pyplot as plt\n",
    "rng = np.random.default_rng(42)\n",
    "import time\n",
    "import random\n",
    "from sklearn.metrics import confusion_matrix, ConfusionMatrixDisplay"
   ]
  },
  {
   "cell_type": "markdown",
   "id": "b11f1e2d",
   "metadata": {},
   "source": [
    "## Part 3"
   ]
  },
  {
   "cell_type": "markdown",
   "id": "0c7dfe43",
   "metadata": {},
   "source": [
    "### Define data"
   ]
  },
  {
   "cell_type": "code",
   "execution_count": null,
   "id": "d027e4d5",
   "metadata": {},
   "outputs": [],
   "source": [
    "def normal_non_lin_sep_data(n=100):\n",
    "    mA = np.array([1.0, 0.5])\n",
    "    sigmaA = 1.0\n",
    "    mB = np.array([-1.0, 0])\n",
    "    sigmaB = 1.0\n",
    "\n",
    "    classA = rng.standard_normal(size=(2, n)) * sigmaA + mA[:, None]\n",
    "    classB = rng.standard_normal(size=(2, n)) * sigmaB + mB[:, None]\n",
    "\n",
    "    return classA, classB\n",
    "\n",
    "data = normal_non_lin_sep_data()"
   ]
  }
 ],
 "metadata": {
  "kernelspec": {
   "display_name": "Python (perceptron-env)",
   "language": "python",
   "name": "perceptron-env"
  },
  "language_info": {
   "codemirror_mode": {
    "name": "ipython",
    "version": 3
   },
   "file_extension": ".py",
   "mimetype": "text/x-python",
   "name": "python",
   "nbconvert_exporter": "python",
   "pygments_lexer": "ipython3",
   "version": "3.13.5"
  }
 },
 "nbformat": 4,
 "nbformat_minor": 5
}
